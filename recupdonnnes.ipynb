{
 "cells": [
  {
   "cell_type": "markdown",
   "metadata": {},
   "source": [
    "Definition boite autour de toulouse par exemple"
   ]
  },
  {
   "cell_type": "code",
   "execution_count": 1,
   "metadata": {},
   "outputs": [],
   "source": [
    "from shapely.geometry import Polygon\n",
    "\n",
    "xmin, ymin, xmax, ymax = 559000, 6253000, 589000, 6283000\n",
    "bbox_toulouse = Polygon([\n",
    "    (xmin, ymin),\n",
    "    (xmax, ymin),\n",
    "    (xmax, ymax),\n",
    "    (xmin, ymax)\n",
    "])\n",
    "\n"
   ]
  },
  {
   "cell_type": "markdown",
   "metadata": {},
   "source": [
    "Chargement cadastre + reprojection"
   ]
  },
  {
   "cell_type": "code",
   "execution_count": 9,
   "metadata": {},
   "outputs": [
    {
     "name": "stderr",
     "output_type": "stream",
     "text": [
      "c:\\Users\\manen\\AppData\\Local\\Programs\\Python\\Python312\\Lib\\site-packages\\pyogrio\\raw.py:198: RuntimeWarning: C:/Users/manen/OneDrive/Bureau/S9 N7/BEI/donnees/cadastre/batiments.shp contains polygon(s) with rings with invalid winding order. Autocorrecting them, but that shapefile should be corrected using ogr2ogr for example.\n",
      "  return ogr_read(\n"
     ]
    }
   ],
   "source": [
    "import geopandas as gpd\n",
    "\n",
    "cadastre_path = \"C:/Users/manen/OneDrive/Bureau/S9 N7/BEI/donnees/cadastre/batiments.shp\"\n",
    "cadastre_gdf = gpd.read_file(cadastre_path)\n",
    "\n",
    "# Vérification / reprojection en EPSG:2154\n",
    "if cadastre_gdf.crs is None:\n",
    "    pass\n",
    "\n",
    "if cadastre_gdf.crs.to_string() != \"EPSG:2154\":\n",
    "    cadastre_gdf = cadastre_gdf.to_crs(\"EPSG:2154\")"
   ]
  },
  {
   "cell_type": "markdown",
   "metadata": {},
   "source": [
    "liste des fichier .jp2 des bandes dans le dossier .safe de sentinelle"
   ]
  },
  {
   "cell_type": "code",
   "execution_count": 4,
   "metadata": {},
   "outputs": [
    {
     "name": "stdout",
     "output_type": "stream",
     "text": [
      "Fichiers trouvés :\n",
      "B01 -> C:/Users/manen/OneDrive/Bureau/S9 N7/BEI/donnees/S2A_MSIL2A_20240827T105021_N0511_R051_T31TCJ_20240827T152946.SAFE\\GRANULE\\L2A_T31TCJ_A047953_20240827T105645\\IMG_DATA\\R20m\\T31TCJ_20240827T105021_B01_20m.jp2\n",
      "B02 -> C:/Users/manen/OneDrive/Bureau/S9 N7/BEI/donnees/S2A_MSIL2A_20240827T105021_N0511_R051_T31TCJ_20240827T152946.SAFE\\GRANULE\\L2A_T31TCJ_A047953_20240827T105645\\IMG_DATA\\R20m\\T31TCJ_20240827T105021_B02_20m.jp2\n",
      "B03 -> C:/Users/manen/OneDrive/Bureau/S9 N7/BEI/donnees/S2A_MSIL2A_20240827T105021_N0511_R051_T31TCJ_20240827T152946.SAFE\\GRANULE\\L2A_T31TCJ_A047953_20240827T105645\\IMG_DATA\\R20m\\T31TCJ_20240827T105021_B03_20m.jp2\n",
      "B04 -> C:/Users/manen/OneDrive/Bureau/S9 N7/BEI/donnees/S2A_MSIL2A_20240827T105021_N0511_R051_T31TCJ_20240827T152946.SAFE\\GRANULE\\L2A_T31TCJ_A047953_20240827T105645\\IMG_DATA\\R20m\\T31TCJ_20240827T105021_B04_20m.jp2\n",
      "B05 -> C:/Users/manen/OneDrive/Bureau/S9 N7/BEI/donnees/S2A_MSIL2A_20240827T105021_N0511_R051_T31TCJ_20240827T152946.SAFE\\GRANULE\\L2A_T31TCJ_A047953_20240827T105645\\IMG_DATA\\R20m\\T31TCJ_20240827T105021_B05_20m.jp2\n",
      "B06 -> C:/Users/manen/OneDrive/Bureau/S9 N7/BEI/donnees/S2A_MSIL2A_20240827T105021_N0511_R051_T31TCJ_20240827T152946.SAFE\\GRANULE\\L2A_T31TCJ_A047953_20240827T105645\\IMG_DATA\\R20m\\T31TCJ_20240827T105021_B06_20m.jp2\n",
      "B07 -> C:/Users/manen/OneDrive/Bureau/S9 N7/BEI/donnees/S2A_MSIL2A_20240827T105021_N0511_R051_T31TCJ_20240827T152946.SAFE\\GRANULE\\L2A_T31TCJ_A047953_20240827T105645\\IMG_DATA\\R20m\\T31TCJ_20240827T105021_B07_20m.jp2\n",
      "B8A -> C:/Users/manen/OneDrive/Bureau/S9 N7/BEI/donnees/S2A_MSIL2A_20240827T105021_N0511_R051_T31TCJ_20240827T152946.SAFE\\GRANULE\\L2A_T31TCJ_A047953_20240827T105645\\IMG_DATA\\R20m\\T31TCJ_20240827T105021_B8A_20m.jp2\n",
      "B11 -> C:/Users/manen/OneDrive/Bureau/S9 N7/BEI/donnees/S2A_MSIL2A_20240827T105021_N0511_R051_T31TCJ_20240827T152946.SAFE\\GRANULE\\L2A_T31TCJ_A047953_20240827T105645\\IMG_DATA\\R20m\\T31TCJ_20240827T105021_B11_20m.jp2\n",
      "B12 -> C:/Users/manen/OneDrive/Bureau/S9 N7/BEI/donnees/S2A_MSIL2A_20240827T105021_N0511_R051_T31TCJ_20240827T152946.SAFE\\GRANULE\\L2A_T31TCJ_A047953_20240827T105645\\IMG_DATA\\R20m\\T31TCJ_20240827T105021_B12_20m.jp2\n"
     ]
    }
   ],
   "source": [
    "import os\n",
    "\n",
    "# Par exemple :\n",
    "safe_folder = r\"C:/Users/manen/OneDrive/Bureau/S9 N7/BEI/donnees/S2A_MSIL2A_20240827T105021_N0511_R051_T31TCJ_20240827T152946.SAFE\"\n",
    "\n",
    "r20m_folder = os.path.join(\n",
    "    safe_folder,\n",
    "    \"GRANULE\",\n",
    "    \"L2A_T31TCJ_A047953_20240827T105645\",  # <-- à adapter selon votre granule\n",
    "    \"IMG_DATA\",\n",
    "    \"R20m\"\n",
    ")\n",
    "\n",
    "# Liste des bandes qu'on souhaite charger en 20m\n",
    "bands_wanted = [\n",
    "    \"B01\", \"B02\", \"B03\", \"B04\", \n",
    "    \"B05\", \"B06\", \"B07\", \n",
    "    \"B8A\", \"B11\", \"B12\"\n",
    "]\n",
    "# On exclut B09 et B10\n",
    "\n",
    "# Construire la liste des fichiers .jp2 attendus\n",
    "jp2_paths = {}\n",
    "for band in bands_wanted:\n",
    "    filename = f\"T31TCJ_20240827T105021_{band}_20m.jp2\"  # pattern\n",
    "    for f in os.listdir(r20m_folder):\n",
    "        if f.endswith(\".jp2\") and f\"_{band}_\" in f:\n",
    "            fullpath = os.path.join(r20m_folder, f)\n",
    "            jp2_paths[band] = fullpath\n",
    "            break\n",
    "\n",
    "print(\"Fichiers trouvés :\")\n",
    "for b, p in jp2_paths.items():\n",
    "    print(b, \"->\", p)\n"
   ]
  },
  {
   "cell_type": "markdown",
   "metadata": {},
   "source": [
    "Dimmension d'une bande ici la bande 2"
   ]
  },
  {
   "cell_type": "code",
   "execution_count": 5,
   "metadata": {},
   "outputs": [
    {
     "name": "stdout",
     "output_type": "stream",
     "text": [
      "Référence :  B02\n",
      "Dimension :  5490 x 5490\n",
      "CRS :  EPSG:32631\n"
     ]
    }
   ],
   "source": [
    "import rasterio\n",
    "from rasterio import Affine\n",
    "import numpy as np\n",
    "\n",
    "# Choisissons B02 comme \"bande de référence\" (vous pouvez prendre une autre)\n",
    "reference_band = \"B02\" \n",
    "ref_path = jp2_paths[reference_band]\n",
    "\n",
    "with rasterio.open(ref_path) as ref_src:\n",
    "    ref_profile = ref_src.profile.copy()\n",
    "    ref_width = ref_profile[\"width\"]\n",
    "    ref_height = ref_profile[\"height\"]\n",
    "    ref_transform = ref_profile[\"transform\"]\n",
    "    ref_crs = ref_profile[\"crs\"]\n",
    "\n",
    "print(\"Référence : \", reference_band)\n",
    "print(\"Dimension : \", ref_width, \"x\", ref_height)\n",
    "print(\"CRS : \", ref_crs)\n"
   ]
  },
  {
   "cell_type": "markdown",
   "metadata": {},
   "source": [
    "Stack de nos 10 bandes en un tableau"
   ]
  },
  {
   "cell_type": "code",
   "execution_count": 6,
   "metadata": {},
   "outputs": [
    {
     "name": "stdout",
     "output_type": "stream",
     "text": [
      "Taille du stack : (10, 5490, 5490)\n"
     ]
    }
   ],
   "source": [
    "wanted_bands = list(jp2_paths.keys())  # Par ex. [\"B01\",\"B02\",\"B03\",...,\"B12\"] (sans B9, B10)\n",
    "wanted_bands.sort()  # Juste pour avoir un ordre cohérent (B01, B02,...)\n",
    "\n",
    "nb_bands = len(wanted_bands)\n",
    "stack_array = np.zeros((nb_bands, ref_height, ref_width), dtype=np.float32)\n",
    "\n",
    "for i, band in enumerate(wanted_bands):\n",
    "    band_file = jp2_paths[band]\n",
    "    with rasterio.open(band_file) as band_src:\n",
    "        # Vérifier si la taille est identique à la référence\n",
    "        if (band_src.width != ref_width) or (band_src.height != ref_height):\n",
    "            # Dans la plupart des cas, en R20m, tout sera identique.\n",
    "            # Sinon, il faudrait re-projeter / re-échantillonner.\n",
    "            raise ValueError(f\"Dimension mismatch pour la bande {band}\")\n",
    "        \n",
    "        band_data = band_src.read(1)  # lire la bande unique\n",
    "        stack_array[i, :, :] = band_data\n",
    "\n",
    "print(\"Taille du stack :\", stack_array.shape)  \n",
    "# => (Nombre_bandes, Height, Width)\n"
   ]
  },
  {
   "cell_type": "markdown",
   "metadata": {},
   "source": [
    "Exportation en .tif"
   ]
  },
  {
   "cell_type": "code",
   "execution_count": 9,
   "metadata": {},
   "outputs": [
    {
     "name": "stdout",
     "output_type": "stream",
     "text": [
      "Multi-bandes écrit : sentinel_R20m_multi_bandes.tif\n"
     ]
    }
   ],
   "source": [
    "out_profile = ref_profile.copy()\n",
    "out_profile.update({\n",
    "    \"driver\": \"GTiff\",\n",
    "    \"count\": nb_bands,\n",
    "    \"dtype\": \"float32\"\n",
    "})\n",
    "\n",
    "out_tiff_path = \"sentinel_R20m_multi_bandes.tif\"\n",
    "with rasterio.open(out_tiff_path, \"w\", **out_profile) as dst:\n",
    "    for i in range(nb_bands):\n",
    "        dst.write(stack_array[i, :, :], i+1)  # i+1 = index de bande rasterio\n",
    "\n",
    "print(\"Multi-bandes écrit :\", out_tiff_path)\n"
   ]
  },
  {
   "cell_type": "markdown",
   "metadata": {},
   "source": [
    "Reprojection de sentinelle en lambert 93"
   ]
  },
  {
   "cell_type": "code",
   "execution_count": 10,
   "metadata": {},
   "outputs": [
    {
     "name": "stdout",
     "output_type": "stream",
     "text": [
      "Projection Sentinel : EPSG:32631\n",
      "Fichier Sentinel final (EPSG:2154) : C:/Users/manen/OneDrive/Bureau/S9 N7/BEI/donnees/SENTINEL2_L2A_EPSG2154.tif\n"
     ]
    }
   ],
   "source": [
    "import rasterio\n",
    "from rasterio.crs import CRS\n",
    "from rasterio.warp import calculate_default_transform, reproject, Resampling\n",
    "import os\n",
    "\n",
    "sentinel_path = \"sentinel_R20m_multi_bandes.tif\"  # À adapter\n",
    "\n",
    "with rasterio.open(sentinel_path) as src:\n",
    "    sentinel_crs = src.crs\n",
    "    print(\"Projection Sentinel :\", sentinel_crs)\n",
    "\n",
    "    if sentinel_crs != CRS.from_epsg(2154):\n",
    "        reprojected_path = \"C:/Users/manen/OneDrive/Bureau/S9 N7/BEI/donnees/SENTINEL2_L2A_EPSG2154.tif\"\n",
    "        \n",
    "        transform, width, height = calculate_default_transform(\n",
    "            src.crs, CRS.from_epsg(2154),\n",
    "            src.width, src.height, *src.bounds\n",
    "        )\n",
    "        profile = src.profile.copy()\n",
    "        profile.update({\n",
    "            'crs': CRS.from_epsg(2154),\n",
    "            'transform': transform,\n",
    "            'width': width,\n",
    "            'height': height\n",
    "        })\n",
    "        \n",
    "        with rasterio.open(reprojected_path, 'w', **profile) as dst:\n",
    "            for i in range(1, src.count + 1):\n",
    "                reproject(\n",
    "                    source=rasterio.band(src, i),\n",
    "                    destination=rasterio.band(dst, i),\n",
    "                    src_transform=src.transform,\n",
    "                    src_crs=src.crs,\n",
    "                    dst_transform=transform,\n",
    "                    dst_crs=CRS.from_epsg(2154),\n",
    "                    resampling=Resampling.nearest\n",
    "                )\n",
    "        \n",
    "        sentinel_path = reprojected_path  # on travaillera maintenant avec la version reprojetée\n",
    "\n",
    "print(\"Fichier Sentinel final (EPSG:2154) :\", sentinel_path)"
   ]
  },
  {
   "cell_type": "markdown",
   "metadata": {},
   "source": [
    "On rogne le cadastre avec la bounding box"
   ]
  },
  {
   "cell_type": "code",
   "execution_count": 11,
   "metadata": {},
   "outputs": [
    {
     "name": "stderr",
     "output_type": "stream",
     "text": [
      "c:\\Users\\manen\\AppData\\Local\\Programs\\Python\\Python312\\Lib\\site-packages\\pyogrio\\raw.py:723: RuntimeWarning: Field created create as date field, though DateTime requested.\n",
      "  ogr_write(\n",
      "c:\\Users\\manen\\AppData\\Local\\Programs\\Python\\Python312\\Lib\\site-packages\\pyogrio\\raw.py:723: RuntimeWarning: Field updated create as date field, though DateTime requested.\n",
      "  ogr_write(\n"
     ]
    }
   ],
   "source": [
    "import geopandas as gpd\n",
    "from shapely.geometry import Polygon\n",
    "\n",
    "# Création d'un GeoDataFrame pour la bounding box\n",
    "bbox_gdf = gpd.GeoDataFrame(index=[0], crs=\"EPSG:2154\", geometry=[bbox_toulouse])\n",
    "\n",
    "cadastre_toulouse_clipped = gpd.clip(cadastre_gdf, bbox_gdf)\n",
    "\n",
    "# Ne garder que Polygone / MultiPolygone\n",
    "cadastre_toulouse_poly = cadastre_toulouse_clipped[\n",
    "    cadastre_toulouse_clipped.geometry.type.isin([\"Polygon\", \"MultiPolygon\"])\n",
    "]\n",
    "\n",
    "cadastre_toulouse_path = \"C:/Users/manen/OneDrive/Bureau/S9 N7/BEI/donnees/cadastre_toulouse.shp\"\n",
    "cadastre_toulouse_poly.to_file(cadastre_toulouse_path)\n"
   ]
  },
  {
   "cell_type": "code",
   "execution_count": 3,
   "metadata": {},
   "outputs": [],
   "source": [
    "sentinel_path=\"C:/Users/manen/OneDrive/Bureau/S9 N7/BEI/donnees/SENTINEL2_L2A_EPSG2154.tif\""
   ]
  },
  {
   "cell_type": "markdown",
   "metadata": {},
   "source": [
    "On rogne sentinelle avec la bounding box"
   ]
  },
  {
   "cell_type": "code",
   "execution_count": 4,
   "metadata": {},
   "outputs": [],
   "source": [
    "import rasterio.mask\n",
    "\n",
    "with rasterio.open(sentinel_path) as src:\n",
    "    bbox_geom = [bbox_toulouse.__geo_interface__]\n",
    "    \n",
    "    try:\n",
    "        out_image, out_transform = rasterio.mask.mask(\n",
    "            src,\n",
    "            bbox_geom,\n",
    "            crop=True,\n",
    "            all_touched=True,\n",
    "            nodata=None\n",
    "        )\n",
    "    except ValueError:\n",
    "        print(\"La bounding box ne recouvre pas le raster : aucune découpe possible.\")\n",
    "        # Vous pouvez soit faire un continue, un return, etc.\n",
    "        # Dans ce cas, on sort de la fonction ou on passe à la tuile suivante.\n",
    "        raise\n",
    "\n",
    "    # Suite du code seulement si la découpe a fonctionné\n",
    "    out_meta = src.meta.copy()\n",
    "    out_meta.update({\n",
    "        \"driver\": \"GTiff\",\n",
    "        \"height\": out_image.shape[1],\n",
    "        \"width\": out_image.shape[2],\n",
    "        \"transform\": out_transform,\n",
    "        \"count\": out_image.shape[0],\n",
    "    })\n",
    "    \n",
    "    sentinel_toulouse_path = \"C:/Users/manen/OneDrive/Bureau/S9 N7/BEI/donnees/SENTINEL2_Toulouse.tif\"\n",
    "    with rasterio.open(sentinel_toulouse_path, \"w\", **out_meta) as dst:\n",
    "        dst.write(out_image)\n",
    "\n"
   ]
  },
  {
   "cell_type": "markdown",
   "metadata": {},
   "source": [
    "Création de la grille de 500*500 sur la bounding box"
   ]
  },
  {
   "cell_type": "code",
   "execution_count": 12,
   "metadata": {},
   "outputs": [],
   "source": [
    "import numpy as np\n",
    "from shapely.geometry import Polygon\n",
    "import geopandas as gpd\n",
    "\n",
    "def generate_grid(bounds, cell_size=500, crs=\"EPSG:2154\"):\n",
    "    \"\"\"\n",
    "    Génère une grille de carrés de taille cell_size x cell_size\n",
    "    couvrant la bounding box spécifiée.\n",
    "    bounds : (xmin, ymin, xmax, ymax)\n",
    "    cell_size : taille de la maille en mètres\n",
    "    \"\"\"\n",
    "    xmin, ymin, xmax, ymax = bounds\n",
    "    \n",
    "    x_coords = np.arange(xmin, xmax, cell_size)\n",
    "    y_coords = np.arange(ymin, ymax, cell_size)\n",
    "\n",
    "    polygons = []\n",
    "    for x in x_coords:\n",
    "        for y in y_coords:\n",
    "            x2 = x + cell_size\n",
    "            y2 = y + cell_size\n",
    "            poly = Polygon([(x, y), (x2, y), (x2, y2), (x, y2)])\n",
    "            polygons.append(poly)\n",
    "    \n",
    "    grid_gdf = gpd.GeoDataFrame({\"geometry\": polygons}, crs=crs)\n",
    "    return grid_gdf\n",
    "\n",
    "# On récupère l'emprise (xmin, ymin, xmax, ymax) de la bounding box\n",
    "(xmin, ymin, xmax, ymax) = bbox_toulouse.bounds\n",
    "grid_500m = generate_grid((xmin, ymin, xmax, ymax), cell_size=500, crs=\"EPSG:2154\")\n"
   ]
  },
  {
   "cell_type": "markdown",
   "metadata": {},
   "source": [
    "Découpage en grille sentinel"
   ]
  },
  {
   "cell_type": "code",
   "execution_count": 13,
   "metadata": {},
   "outputs": [],
   "source": [
    "import os\n",
    "import rasterio.mask\n",
    "\n",
    "sentinel_toulouse_path = \"C:/Users/manen/OneDrive/Bureau/S9 N7/BEI/donnees/SENTINEL2_Toulouse.tif\"\n",
    "output_dir = \"C:/Users/manen/OneDrive/Bureau/S9 N7/BEI/donnees/tuiles_toulouse\"\n",
    "os.makedirs(output_dir, exist_ok=True)\n",
    "\n",
    "with rasterio.open(sentinel_toulouse_path) as src:\n",
    "    for idx, row in grid_500m.iterrows():\n",
    "        tile_geom = [row.geometry.__geo_interface__]\n",
    "        \n",
    "        try:\n",
    "            out_image, out_transform = rasterio.mask.mask(\n",
    "                src,\n",
    "                tile_geom,\n",
    "                crop=True,\n",
    "                all_touched=True,\n",
    "                nodata=None\n",
    "            )\n",
    "        except ValueError:\n",
    "            # Si la tuile n'intersecte pas du tout le raster, on passe\n",
    "            continue\n",
    "        \n",
    "        out_meta = src.meta.copy()\n",
    "        out_meta.update({\n",
    "            \"driver\": \"GTiff\",\n",
    "            \"height\": out_image.shape[1],\n",
    "            \"width\": out_image.shape[2],\n",
    "            \"transform\": out_transform\n",
    "        })\n",
    "        \n",
    "        tile_id = f\"tile_{idx:05d}\"\n",
    "        sentinel_tile_path = os.path.join(output_dir, f\"{tile_id}_sentinel.tif\")\n",
    "        \n",
    "        with rasterio.open(sentinel_tile_path, \"w\", **out_meta) as dst:\n",
    "            dst.write(out_image)\n"
   ]
  },
  {
   "cell_type": "markdown",
   "metadata": {},
   "source": [
    "rasterisation cadastre avec masque binaire"
   ]
  },
  {
   "cell_type": "code",
   "execution_count": null,
   "metadata": {},
   "outputs": [],
   "source": [
    "from rasterio.features import rasterize\n",
    "import numpy as np\n",
    "\n",
    "def rasterize_cadastre(geom_list, out_shape, transform, fill=0, default_value=1):\n",
    "    return rasterize(\n",
    "        shapes=geom_list,\n",
    "        out_shape=out_shape,\n",
    "        transform=transform,\n",
    "        fill=fill,\n",
    "        all_touched=True,\n",
    "        default_value=default_value,\n",
    "        dtype=np.uint8\n",
    "    )\n",
    "\n",
    "cadastre_toulouse_gdf = gpd.read_file(cadastre_toulouse_path)\n",
    "\n",
    "with rasterio.open(sentinel_toulouse_path) as src_global:\n",
    "    pass  # on peut s'en servir pour la résolution, etc.\n",
    "\n",
    "for idx, row in grid_500m.iterrows():\n",
    "    tile_id = f\"tile_{idx:05d}\"\n",
    "    \n",
    "    sentinel_tile_path = os.path.join(output_dir, f\"{tile_id}_sentinel.tif\")\n",
    "    if not os.path.exists(sentinel_tile_path):\n",
    "        continue\n",
    "    \n",
    "    # Charger la tuile Sentinel pour récupérer meta, transform, etc.\n",
    "    with rasterio.open(sentinel_tile_path) as src_tile:\n",
    "        out_meta = src_tile.meta.copy()\n",
    "        \n",
    "        # Intersecter le cadastre avec la tuile\n",
    "        tile_poly = gpd.GeoDataFrame(geometry=[row.geometry], crs=\"EPSG:2154\")\n",
    "        cadastre_clip = gpd.overlay(cadastre_toulouse_gdf, tile_poly, how='intersection')\n",
    "        \n",
    "        if cadastre_clip.empty:\n",
    "            # Pas de parcelles dans cette tuile\n",
    "            mask_arr = np.zeros((src_tile.height, src_tile.width), dtype=np.uint8)\n",
    "        else:\n",
    "            shapes = [(geom, 1) for geom in cadastre_clip.geometry]\n",
    "            mask_arr = rasterize_cadastre(\n",
    "                shapes,\n",
    "                out_shape=(src_tile.height, src_tile.width),\n",
    "                transform=src_tile.transform,\n",
    "                fill=0,\n",
    "                default_value=1\n",
    "            )\n",
    "        \n",
    "        # Sauvegarder le masque\n",
    "        out_meta.update({\n",
    "            \"count\": 1,\n",
    "            \"dtype\": \"uint8\"\n",
    "        })\n",
    "        cadastre_mask_path = os.path.join(output_dir, f\"{tile_id}_cadastre_mask.tif\")\n",
    "        with rasterio.open(cadastre_mask_path, \"w\", **out_meta) as dst:\n",
    "            dst.write(mask_arr, 1)\n"
   ]
  }
 ],
 "metadata": {
  "kernelspec": {
   "display_name": "Python 3",
   "language": "python",
   "name": "python3"
  },
  "language_info": {
   "codemirror_mode": {
    "name": "ipython",
    "version": 3
   },
   "file_extension": ".py",
   "mimetype": "text/x-python",
   "name": "python",
   "nbconvert_exporter": "python",
   "pygments_lexer": "ipython3",
   "version": "3.12.3"
  }
 },
 "nbformat": 4,
 "nbformat_minor": 2
}
