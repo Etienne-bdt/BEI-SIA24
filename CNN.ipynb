{
  "cells": [
    {
      "cell_type": "code",
      "execution_count": null,
      "metadata": {},
      "outputs": [],
      "source": [
        "!git clone https://github.com/Etienne-bdt/BEI-SIA25\n",
        "!unzip /content/BEI-SIA25/data.zip /content/BEI-SIA25/data"
      ]
    },
    {
      "cell_type": "code",
      "execution_count": 1,
      "metadata": {
        "colab": {
          "base_uri": "https://localhost:8080/",
          "height": 362
        },
        "id": "xJxCG70XFQCF",
        "outputId": "90d8f42a-d007-4ad5-8583-e6680a751a8b"
      },
      "outputs": [],
      "source": [
        "import matplotlib.cm as cm\n",
        "import matplotlib.pyplot as plt\n",
        "import numpy as np\n",
        "import torch\n",
        "import torch.nn as nn\n",
        "from torch.utils.data import DataLoader\n",
        "from tqdm import tqdm\n",
        "\n",
        "from utils.dataloader import CadastreSen2Dataset\n",
        "from utils.index_calculation import BSI, NDBI, NDMI, NDVI, NDWI"
      ]
    },
    {
      "cell_type": "code",
      "execution_count": 2,
      "metadata": {
        "colab": {
          "base_uri": "https://localhost:8080/",
          "height": 161
        },
        "id": "ZtSBcJPunzNn",
        "outputId": "4cfdf93d-b55b-4ed9-9303-69cd2a1cd3cb"
      },
      "outputs": [],
      "source": [
        "device = torch.device(\"cuda\" if torch.cuda.is_available() else \"cpu\")"
      ]
    },
    {
      "cell_type": "markdown",
      "metadata": {
        "id": "RrXpfVV6F8CC"
      },
      "source": [
        "# Load the data"
      ]
    },
    {
      "cell_type": "markdown",
      "metadata": {
        "id": "YlM5C730Isk2"
      },
      "source": [
        "Get the data"
      ]
    },
    {
      "cell_type": "markdown",
      "metadata": {
        "id": "JF0T_SAqGytH"
      },
      "source": [
        "Prepare pytorch dataset"
      ]
    },
    {
      "cell_type": "code",
      "execution_count": 3,
      "metadata": {
        "colab": {
          "base_uri": "https://localhost:8080/",
          "height": 232
        },
        "id": "zxv6b7ioF66D",
        "outputId": "6279131d-6149-49d9-ed1b-260c9975cac2"
      },
      "outputs": [
        {
          "name": "stdout",
          "output_type": "stream",
          "text": [
            "No numpy patches found in ./data/31035\\patches\n",
            "No numpy patches found in ./data/57591\\patches\n"
          ]
        }
      ],
      "source": [
        "dataset = CadastreSen2Dataset(image_path=\"./data/\")"
      ]
    },
    {
      "cell_type": "markdown",
      "metadata": {
        "id": "V2kW5hYpX3L4"
      },
      "source": [
        "Prepare dataloader"
      ]
    },
    {
      "cell_type": "code",
      "execution_count": 4,
      "metadata": {
        "id": "hKsoNBHKX48M"
      },
      "outputs": [],
      "source": [
        "batch_size = 32\n",
        "num_threads = 0\n",
        "\n",
        "#Split into train and validation\n",
        "train_size = int(0.8 * len(dataset))\n",
        "val_size = len(dataset) - train_size\n",
        "train_dataset, val_dataset = torch.utils.data.random_split(dataset, [train_size, val_size])\n",
        "\n",
        "train_loader = DataLoader(train_dataset, batch_size=batch_size, shuffle=True, num_workers=num_threads)\n",
        "val_loader = DataLoader(val_dataset, batch_size=batch_size, shuffle=True, num_workers=num_threads)"
      ]
    },
    {
      "cell_type": "markdown",
      "metadata": {
        "id": "MhgjR_ROZ9I3"
      },
      "source": [
        "# Model definition"
      ]
    },
    {
      "cell_type": "code",
      "execution_count": 5,
      "metadata": {
        "id": "MTBtsncQZ8vV"
      },
      "outputs": [],
      "source": [
        "class Conv2DRegressionModel(nn.Module): # prédiction de l'image 2024\n",
        "    def __init__(self, int_channels: int = 11):\n",
        "        super(Conv2DRegressionModel, self).__init__()\n",
        "        self.nb_channel = int_channels\n",
        "        self.encoder = nn.Sequential(\n",
        "            nn.Conv2d(int_channels, 16, kernel_size=3, padding=\"same\"),\n",
        "            nn.BatchNorm2d(16),\n",
        "            nn.ReLU(),\n",
        "            nn.Conv2d(16, 32, kernel_size=3, padding=\"same\"),\n",
        "            nn.BatchNorm2d(32),\n",
        "            nn.ReLU(),\n",
        "            nn.Conv2d(32, 64, kernel_size=3, padding=\"same\"),\n",
        "            nn.BatchNorm2d(64),\n",
        "            nn.ReLU(),\n",
        "            nn.Conv2d(64, 128, kernel_size=3, padding=\"same\"),\n",
        "            nn.BatchNorm2d(128),\n",
        "            nn.ReLU(),\n",
        "        )\n",
        "        self.decoder = nn.Sequential(\n",
        "            nn.ConvTranspose2d(128, 64, kernel_size=2),\n",
        "            nn.BatchNorm2d(64),\n",
        "            nn.ReLU(),\n",
        "            nn.ConvTranspose2d(64, 32, kernel_size=2),\n",
        "            nn.BatchNorm2d(32),\n",
        "            nn.ReLU(),\n",
        "            nn.ConvTranspose2d(32, 16, kernel_size=2),\n",
        "            nn.BatchNorm2d(16),\n",
        "            nn.ReLU(),\n",
        "            nn.Conv2d(16, 10, kernel_size=4),\n",
        "            nn.BatchNorm2d(10),\n",
        "            nn.ReLU(),\n",
        "        )\n",
        "\n",
        "    def forward(self, X: torch.Tensor) -> torch.Tensor:\n",
        "        y = self.encoder(X)\n",
        "        y = self.decoder(y)\n",
        "        return y\n",
        "    "
      ]
    },
    {
      "cell_type": "markdown",
      "metadata": {
        "id": "gz851Jtlbh68"
      },
      "source": [
        "# Train the model"
      ]
    },
    {
      "cell_type": "code",
      "execution_count": null,
      "metadata": {},
      "outputs": [],
      "source": [
        "import ignite.metrics as im"
      ]
    },
    {
      "cell_type": "code",
      "execution_count": null,
      "metadata": {
        "id": "e4N79MD6bhV5"
      },
      "outputs": [
        {
          "name": "stderr",
          "output_type": "stream",
          "text": [
            "  0%|          | 0/3 [00:00<?, ?it/s]"
          ]
        },
        {
          "name": "stdout",
          "output_type": "stream",
          "text": [
            "torch.Size([32, 5, 64, 64])\n",
            "torch.Size([32, 5, 64, 64])\n"
          ]
        },
        {
          "name": "stderr",
          "output_type": "stream",
          "text": [
            " 67%|██████▋   | 2/3 [00:03<00:01,  1.73s/it]"
          ]
        },
        {
          "name": "stdout",
          "output_type": "stream",
          "text": [
            "torch.Size([32, 5, 64, 64])\n",
            "torch.Size([32, 5, 64, 64])\n"
          ]
        },
        {
          "name": "stderr",
          "output_type": "stream",
          "text": [
            "100%|██████████| 3/3 [00:04<00:00,  1.50s/it]"
          ]
        },
        {
          "name": "stdout",
          "output_type": "stream",
          "text": [
            "torch.Size([19, 5, 64, 64])\n",
            "torch.Size([19, 5, 64, 64])\n"
          ]
        },
        {
          "name": "stderr",
          "output_type": "stream",
          "text": [
            "\n"
          ]
        },
        {
          "name": "stdout",
          "output_type": "stream",
          "text": [
            "torch.Size([21, 10, 64, 64])\n",
            "torch.Size([21, 1, 64, 64])\n",
            "Epoch 1/10 - Train loss: 2.7450 - Val loss: 1.0272\n"
          ]
        },
        {
          "name": "stderr",
          "output_type": "stream",
          "text": [
            "  0%|          | 0/3 [00:00<?, ?it/s]"
          ]
        },
        {
          "name": "stdout",
          "output_type": "stream",
          "text": [
            "torch.Size([32, 5, 64, 64])\n",
            "torch.Size([32, 5, 64, 64])\n"
          ]
        },
        {
          "name": "stderr",
          "output_type": "stream",
          "text": [
            " 33%|███▎      | 1/3 [00:00<00:00,  7.34it/s]"
          ]
        },
        {
          "name": "stdout",
          "output_type": "stream",
          "text": [
            "torch.Size([32, 5, 64, 64])\n",
            "torch.Size([32, 5, 64, 64])\n"
          ]
        },
        {
          "name": "stderr",
          "output_type": "stream",
          "text": [
            "100%|██████████| 3/3 [00:00<00:00,  7.31it/s]"
          ]
        },
        {
          "name": "stdout",
          "output_type": "stream",
          "text": [
            "torch.Size([19, 5, 64, 64])\n",
            "torch.Size([19, 5, 64, 64])\n"
          ]
        },
        {
          "name": "stderr",
          "output_type": "stream",
          "text": [
            "100%|██████████| 3/3 [00:00<00:00,  7.20it/s]\n"
          ]
        },
        {
          "name": "stdout",
          "output_type": "stream",
          "text": [
            "torch.Size([21, 10, 64, 64])\n",
            "torch.Size([21, 1, 64, 64])\n",
            "Epoch 2/10 - Train loss: 2.1816 - Val loss: 1.1668\n"
          ]
        },
        {
          "name": "stderr",
          "output_type": "stream",
          "text": [
            " 33%|███▎      | 1/3 [00:00<00:00,  6.77it/s]"
          ]
        },
        {
          "name": "stdout",
          "output_type": "stream",
          "text": [
            "torch.Size([32, 5, 64, 64])\n",
            "torch.Size([32, 5, 64, 64])\n",
            "torch.Size([32, 5, 64, 64])\n",
            "torch.Size([32, 5, 64, 64])\n"
          ]
        },
        {
          "name": "stderr",
          "output_type": "stream",
          "text": [
            "100%|██████████| 3/3 [00:00<00:00,  7.17it/s]"
          ]
        },
        {
          "name": "stdout",
          "output_type": "stream",
          "text": [
            "torch.Size([19, 5, 64, 64])\n",
            "torch.Size([19, 5, 64, 64])\n",
            "torch.Size([21, 10, 64, 64])\n",
            "torch.Size([21, 1, 64, 64])\n"
          ]
        },
        {
          "name": "stderr",
          "output_type": "stream",
          "text": [
            "\n"
          ]
        },
        {
          "name": "stdout",
          "output_type": "stream",
          "text": [
            "Epoch 3/10 - Train loss: 2.1133 - Val loss: 1.2918\n"
          ]
        },
        {
          "name": "stderr",
          "output_type": "stream",
          "text": [
            "  0%|          | 0/3 [00:00<?, ?it/s]"
          ]
        },
        {
          "name": "stdout",
          "output_type": "stream",
          "text": [
            "torch.Size([32, 5, 64, 64])"
          ]
        },
        {
          "name": "stderr",
          "output_type": "stream",
          "text": [
            " 33%|███▎      | 1/3 [00:00<00:00,  6.05it/s]"
          ]
        },
        {
          "name": "stdout",
          "output_type": "stream",
          "text": [
            "\n",
            "torch.Size([32, 5, 64, 64])\n",
            "torch.Size([32, 5, 64, 64])\n",
            "torch.Size([32, 5, 64, 64])\n"
          ]
        },
        {
          "name": "stderr",
          "output_type": "stream",
          "text": [
            " 67%|██████▋   | 2/3 [00:00<00:00,  5.87it/s]"
          ]
        },
        {
          "name": "stdout",
          "output_type": "stream",
          "text": [
            "torch.Size([19, 5, 64, 64])\n",
            "torch.Size([19, 5, 64, 64])\n"
          ]
        },
        {
          "name": "stderr",
          "output_type": "stream",
          "text": [
            "100%|██████████| 3/3 [00:00<00:00,  6.05it/s]\n"
          ]
        },
        {
          "name": "stdout",
          "output_type": "stream",
          "text": [
            "torch.Size([21, 10, 64, 64])\n",
            "torch.Size([21, 1, 64, 64])\n",
            "Epoch 4/10 - Train loss: 1.9064 - Val loss: 1.4010\n"
          ]
        },
        {
          "name": "stderr",
          "output_type": "stream",
          "text": [
            " 33%|███▎      | 1/3 [00:00<00:00,  5.28it/s]"
          ]
        },
        {
          "name": "stdout",
          "output_type": "stream",
          "text": [
            "torch.Size([32, 5, 64, 64])\n",
            "torch.Size([32, 5, 64, 64])\n",
            "torch.Size([32, 5, 64, 64])\n",
            "torch.Size([32, 5, 64, 64])\n"
          ]
        },
        {
          "name": "stderr",
          "output_type": "stream",
          "text": [
            "100%|██████████| 3/3 [00:00<00:00,  6.43it/s]"
          ]
        },
        {
          "name": "stdout",
          "output_type": "stream",
          "text": [
            "torch.Size([19, 5, 64, 64])\n",
            "torch.Size([19, 5, 64, 64])\n",
            "torch.Size([21, 10, 64, 64])\n",
            "torch.Size([21, 1, 64, 64])\n"
          ]
        },
        {
          "name": "stderr",
          "output_type": "stream",
          "text": [
            "\n"
          ]
        },
        {
          "name": "stdout",
          "output_type": "stream",
          "text": [
            "Epoch 5/10 - Train loss: 1.7646 - Val loss: 1.3106\n"
          ]
        },
        {
          "name": "stderr",
          "output_type": "stream",
          "text": [
            " 33%|███▎      | 1/3 [00:00<00:00,  6.77it/s]"
          ]
        },
        {
          "name": "stdout",
          "output_type": "stream",
          "text": [
            "torch.Size([32, 5, 64, 64])\n",
            "torch.Size([32, 5, 64, 64])\n",
            "torch.Size([32, 5, 64, 64])\n",
            "torch.Size([32, 5, 64, 64])\n"
          ]
        },
        {
          "name": "stderr",
          "output_type": "stream",
          "text": [
            "100%|██████████| 3/3 [00:00<00:00,  7.64it/s]"
          ]
        },
        {
          "name": "stdout",
          "output_type": "stream",
          "text": [
            "torch.Size([19, 5, 64, 64])\n",
            "torch.Size([19, 5, 64, 64])\n"
          ]
        },
        {
          "name": "stderr",
          "output_type": "stream",
          "text": [
            "\n"
          ]
        },
        {
          "name": "stdout",
          "output_type": "stream",
          "text": [
            "torch.Size([21, 10, 64, 64])\n",
            "torch.Size([21, 1, 64, 64])\n",
            "Epoch 6/10 - Train loss: 1.5544 - Val loss: 1.6660\n"
          ]
        },
        {
          "name": "stderr",
          "output_type": "stream",
          "text": [
            "  0%|          | 0/3 [00:00<?, ?it/s]"
          ]
        },
        {
          "name": "stdout",
          "output_type": "stream",
          "text": [
            "torch.Size([32, 5, 64, 64])\n",
            "torch.Size([32, 5, 64, 64])\n"
          ]
        },
        {
          "name": "stderr",
          "output_type": "stream",
          "text": [
            " 33%|███▎      | 1/3 [00:00<00:00,  6.63it/s]"
          ]
        },
        {
          "name": "stdout",
          "output_type": "stream",
          "text": [
            "torch.Size([32, 5, 64, 64])\n",
            "torch.Size([32, 5, 64, 64])\n"
          ]
        },
        {
          "name": "stderr",
          "output_type": "stream",
          "text": [
            "100%|██████████| 3/3 [00:00<00:00,  5.89it/s]\n"
          ]
        },
        {
          "name": "stdout",
          "output_type": "stream",
          "text": [
            "torch.Size([19, 5, 64, 64])\n",
            "torch.Size([19, 5, 64, 64])\n",
            "torch.Size([21, 10, 64, 64])\n",
            "torch.Size([21, 1, 64, 64])\n",
            "Epoch 7/10 - Train loss: 1.5641 - Val loss: 1.7350\n"
          ]
        },
        {
          "name": "stderr",
          "output_type": "stream",
          "text": [
            "  0%|          | 0/3 [00:00<?, ?it/s]"
          ]
        },
        {
          "name": "stdout",
          "output_type": "stream",
          "text": [
            "torch.Size([32, 5, 64, 64])"
          ]
        },
        {
          "name": "stderr",
          "output_type": "stream",
          "text": [
            " 67%|██████▋   | 2/3 [00:00<00:00,  7.37it/s]"
          ]
        },
        {
          "name": "stdout",
          "output_type": "stream",
          "text": [
            "\n",
            "torch.Size([32, 5, 64, 64])\n",
            "torch.Size([32, 5, 64, 64])\n",
            "torch.Size([32, 5, 64, 64])\n"
          ]
        },
        {
          "name": "stderr",
          "output_type": "stream",
          "text": [
            "100%|██████████| 3/3 [00:00<00:00,  7.78it/s]\n"
          ]
        },
        {
          "name": "stdout",
          "output_type": "stream",
          "text": [
            "torch.Size([19, 5, 64, 64])\n",
            "torch.Size([19, 5, 64, 64])\n",
            "torch.Size([21, 10, 64, 64])\n",
            "torch.Size([21, 1, 64, 64])\n",
            "Epoch 8/10 - Train loss: 1.3318 - Val loss: 1.3443\n"
          ]
        },
        {
          "name": "stderr",
          "output_type": "stream",
          "text": [
            " 33%|███▎      | 1/3 [00:00<00:00,  6.06it/s]"
          ]
        },
        {
          "name": "stdout",
          "output_type": "stream",
          "text": [
            "torch.Size([32, 5, 64, 64])\n",
            "torch.Size([32, 5, 64, 64])\n",
            "torch.Size([32, 5, 64, 64])\n",
            "torch.Size([32, 5, 64, 64])\n"
          ]
        },
        {
          "name": "stderr",
          "output_type": "stream",
          "text": [
            "100%|██████████| 3/3 [00:00<00:00,  7.24it/s]\n"
          ]
        },
        {
          "name": "stdout",
          "output_type": "stream",
          "text": [
            "torch.Size([19, 5, 64, 64])\n",
            "torch.Size([19, 5, 64, 64])\n",
            "torch.Size([21, 10, 64, 64])\n",
            "torch.Size([21, 1, 64, 64])\n",
            "Epoch 9/10 - Train loss: 1.1818 - Val loss: 1.3789\n"
          ]
        },
        {
          "name": "stderr",
          "output_type": "stream",
          "text": [
            "  0%|          | 0/3 [00:00<?, ?it/s]"
          ]
        },
        {
          "name": "stdout",
          "output_type": "stream",
          "text": [
            "torch.Size([32, 5, 64, 64])"
          ]
        },
        {
          "name": "stderr",
          "output_type": "stream",
          "text": [
            " 33%|███▎      | 1/3 [00:00<00:00,  7.25it/s]"
          ]
        },
        {
          "name": "stdout",
          "output_type": "stream",
          "text": [
            "\n",
            "torch.Size([32, 5, 64, 64])\n"
          ]
        },
        {
          "name": "stderr",
          "output_type": "stream",
          "text": [
            "100%|██████████| 3/3 [00:00<00:00,  6.31it/s]"
          ]
        },
        {
          "name": "stdout",
          "output_type": "stream",
          "text": [
            "torch.Size([32, 5, 64, 64])\n",
            "torch.Size([32, 5, 64, 64])\n",
            "torch.Size([19, 5, 64, 64])\n",
            "torch.Size([19, 5, 64, 64])\n"
          ]
        },
        {
          "name": "stderr",
          "output_type": "stream",
          "text": [
            "\n"
          ]
        },
        {
          "name": "stdout",
          "output_type": "stream",
          "text": [
            "torch.Size([21, 10, 64, 64])\n",
            "torch.Size([21, 1, 64, 64])\n",
            "Epoch 10/10 - Train loss: 1.1939 - Val loss: 0.8864\n"
          ]
        }
      ],
      "source": [
        "n_epochs = 10\n",
        "learning_rate = 0.001\n",
        "\n",
        "model = Conv2DRegressionModel()\n",
        "model = model.to(device)\n",
        "\n",
        "\n",
        "# metric = im.SSIM(data_range=1.0)\n",
        "# metric.attach(im.default_evaluator, 'ssim')\n",
        "# preds = torch.rand([4, 3, 16, 16])\n",
        "# target = preds * 0.75\n",
        "# state = im.default_evaluator.run([[preds, target]])\n",
        "# print(state.metrics['ssim'])\n",
        "\n",
        "loss_fn = nn.MSELoss()\n",
        "optimizer = torch.optim.Adam(model.parameters(), lr=learning_rate)\n",
        "\n",
        "train_set_len = len(train_loader)\n",
        "val_set_len = len(val_loader)\n",
        "\n",
        "train_loss_comp, val_loss_comp = [], []\n",
        "train_loss_pred, val_loss_pred = [], []\n",
        "train_loss_comp_pred, val_loss_comp_pred = [], []\n",
        "train_loss_tot, val_loss_tot = [], []\n",
        "best_loss=1000000\n",
        "for epoch in range(n_epochs):\n",
        "    model.train()\n",
        "    accu_comp = 0.0\n",
        "    accu_pred = 0.0\n",
        "    accu_comp_pred = 0.0\n",
        "    accu_total = 0.0\n",
        "\n",
        "    for x, y, mask in tqdm(train_loader):\n",
        "        x,y,mask = x.to(device), y.to(device), mask.to(device)\n",
        "        x,y,mask = x.float(), y.float(), mask.float()\n",
        "        optimizer.zero_grad()\n",
        "        # img_2018, img_2024 = img_2018.to(device), img_2024.to(device)\n",
        "        # Forward pass\n",
        "        in_x = torch.cat((x, mask), dim=1)\n",
        "        y_pred = model(in_x) # image 2024 prédite à partir de 2018\n",
        "        Ind_comp = NDVI(y_pred)\n",
        "        Ind_comp = torch.cat((Ind_comp, NDWI(y_pred)), dim=1)\n",
        "        Ind_comp = torch.cat((Ind_comp, NDBI(y_pred)), dim=1)\n",
        "        Ind_comp = torch.cat((Ind_comp, NDMI(y_pred)), dim=1)\n",
        "        Ind_comp = torch.cat((Ind_comp, BSI(y_pred)), dim=1)\n",
        "        Ind_real = y[:,5:,:,:]\n",
        "        Ind_pred = y_pred[:,5:,:,:]\n",
        "        weights = torch.tensor([0.4, 0.2, 0.2, 0.1, 0.1], device=device) # pondération à ajuster\n",
        "        loss_comp = sum(w * loss_fn(comp, true) for w, comp, true in zip(weights, Ind_comp, Ind_real)) # comparaison des indices calculés\n",
        "        loss_pred = sum(w * loss_fn(pred, true) for w, pred, true in zip(weights, Ind_pred, Ind_real)) # comparaison des indices prédits\n",
        "        loss_comp_pred = sum(w * loss_fn(comp, pred) for w, comp, pred in zip(weights, Ind_comp, Ind_pred)) # comparaison des indices calculés et prédits\n",
        "        total_loss = loss_comp + loss_pred + loss_comp_pred\n",
        "\n",
        "        accu_comp += loss_comp.item()\n",
        "        accu_pred += loss_pred.item()\n",
        "        accu_comp_pred += loss_comp_pred.item()\n",
        "        accu_total += total_loss.item()\n",
        "        # Backward pass\n",
        "        total_loss.backward()\n",
        "        optimizer.step()\n",
        "\n",
        "    train_loss_comp.append(accu_comp / train_set_len)\n",
        "    train_loss_pred.append(accu_pred / train_set_len)\n",
        "    train_loss_comp_pred.append(accu_comp_pred / train_set_len)\n",
        "    train_loss_tot.append(accu_total / train_set_len)\n",
        "    # Validation - no gradient & eval mode\n",
        "    model.eval()\n",
        "    accu_comp = 0.0\n",
        "    accu_pred = 0.0\n",
        "    accu_comp_pred = 0.0\n",
        "    accu_total = 0.0\n",
        "\n",
        "    with torch.no_grad():\n",
        "        for x, y, mask in val_loader:\n",
        "            x,y,mask = x.to(device), y.to(device), mask.to(device)\n",
        "            x,y,mask = x.float(), y.float(), mask.float()\n",
        "            in_x = torch.cat((x, mask), dim=1)\n",
        "            y_pred = model(in_x)\n",
        "            Ind_comp = NDVI(y_pred)\n",
        "            Ind_comp = torch.cat((Ind_comp, NDWI(y_pred)), dim=1)\n",
        "            Ind_comp = torch.cat((Ind_comp, NDBI(y_pred)), dim=1)\n",
        "            Ind_comp = torch.cat((Ind_comp, NDMI(y_pred)), dim=1)\n",
        "            Ind_comp = torch.cat((Ind_comp, BSI(y_pred)), dim=1)\n",
        "            Ind_real = y[:,5:,:,:]\n",
        "            Ind_pred = y_pred[:,5:,:,:]\n",
        "            weights = torch.tensor([0.4, 0.2, 0.2, 0.1, 0.1], device=device)\n",
        "            loss_comp = sum(w * loss_fn(comp, true) for w, comp, true in zip(weights, Ind_comp, Ind_real))\n",
        "            loss_pred = sum(w * loss_fn(pred, true) for w, pred, true in zip(weights, Ind_pred, Ind_real))\n",
        "            loss_comp_pred = sum(w * loss_fn(comp, pred) for w, comp, pred in zip(weights, Ind_comp, Ind_pred))\n",
        "            total_loss = loss_comp + loss_pred + loss_comp_pred\n",
        "\n",
        "            accu_comp += loss_comp.item()\n",
        "            accu_pred += loss_pred.item()\n",
        "            accu_comp_pred += loss_comp_pred.item()\n",
        "            accu_total += total_loss.item()\n",
        "\n",
        "    val_loss_comp.append(accu_comp / val_set_len)\n",
        "    val_loss_pred.append(accu_pred / val_set_len)\n",
        "    val_loss_comp_pred.append(accu_comp_pred / val_set_len)\n",
        "    val_loss_tot.append(accu_total / val_set_len)\n",
        "\n",
        "    if accu_total < best_loss:\n",
        "        best_loss = accu_total\n",
        "        torch.save(model.state_dict(), \"best_model.pt\")\n",
        "\n",
        "    if epoch % 1 == 0:\n",
        "        print(f\"Epoch {epoch + 1}/{n_epochs} - Train loss: {train_loss_tot[-1]:.4f} - Val loss: {val_loss_tot[-1]:.4f}\")\n",
        "\n",
        "    if epoch % 10 == 0:\n",
        "        torch.save(model.state_dict(), f\"model_{epoch}.pt\")\n",
        "    "
      ]
    },
    {
      "cell_type": "code",
      "execution_count": null,
      "metadata": {
        "id": "X0MWL3EKl3Kw"
      },
      "outputs": [],
      "source": [
        "plt.plot(train_loss_comp, label=\"Train Loss 'comp'\")\n",
        "plt.plot(val_loss_comp, label=\"Validation Loss 'comp'\")\n",
        "plt.xlabel(\"Epochs\")\n",
        "plt.ylabel(\"Loss\")\n",
        "plt.legend()\n",
        "plt.grid()\n",
        "plt.show()\n",
        "\n",
        "plt.plot(train_loss_pred, label=\"Train Loss 'pred'\")\n",
        "plt.plot(val_loss_pred, label=\"Validation Loss 'pred'\")\n",
        "plt.xlabel(\"Epochs\")\n",
        "plt.ylabel(\"Loss\")\n",
        "plt.legend()\n",
        "plt.grid()\n",
        "plt.show()\n",
        "\n",
        "plt.plot(train_loss_comp_pred, label=\"Train Loss 'comp_pred'\")\n",
        "plt.plot(val_loss_comp_pred, label=\"Validation Loss 'comp_pred'\")\n",
        "plt.xlabel(\"Epochs\")\n",
        "plt.ylabel(\"Loss\")\n",
        "plt.legend()\n",
        "plt.grid()\n",
        "plt.show()"
      ]
    }
  ],
  "metadata": {
    "colab": {
      "provenance": []
    },
    "kernelspec": {
      "display_name": "Python 3",
      "name": "python3"
    },
    "language_info": {
      "codemirror_mode": {
        "name": "ipython",
        "version": 3
      },
      "file_extension": ".py",
      "mimetype": "text/x-python",
      "name": "python",
      "nbconvert_exporter": "python",
      "pygments_lexer": "ipython3",
      "version": "3.12.2"
    }
  },
  "nbformat": 4,
  "nbformat_minor": 0
}
